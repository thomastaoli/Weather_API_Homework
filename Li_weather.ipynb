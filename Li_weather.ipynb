{
 "cells": [
  {
   "cell_type": "code",
   "execution_count": 33,
   "metadata": {},
   "outputs": [
    {
     "data": {
      "text/plain": [
       "True"
      ]
     },
     "execution_count": 33,
     "metadata": {},
     "output_type": "execute_result"
    }
   ],
   "source": [
    "import requests\n",
    "import json\n",
    "import os\n",
    "from dotenv import load_dotenv\n",
    "load_dotenv()"
   ]
  },
  {
   "cell_type": "code",
   "execution_count": 34,
   "metadata": {},
   "outputs": [],
   "source": [
    "key = os.getenv(\"key\")"
   ]
  },
  {
   "cell_type": "markdown",
   "metadata": {},
   "source": [
    "Doc: https://www.weatherapi.com/docs/"
   ]
  },
  {
   "cell_type": "code",
   "execution_count": 35,
   "metadata": {},
   "outputs": [
    {
     "name": "stdout",
     "output_type": "stream",
     "text": [
      "http://api.weatherapi.com/v1/current.json?key=3e18309265524cb9b9800427231511&q=Hong Kong&aqi=no\n"
     ]
    }
   ],
   "source": [
    "hk_url = f\"http://api.weatherapi.com/v1/current.json?key={key}&q=Hong Kong&aqi=no\"\n",
    "response = requests.get(hk_url)\n",
    "hk_data = response.json()"
   ]
  },
  {
   "cell_type": "code",
   "execution_count": 36,
   "metadata": {},
   "outputs": [
    {
     "name": "stdout",
     "output_type": "stream",
     "text": [
      "Hong Kong\n"
     ]
    }
   ],
   "source": [
    "print(hk_data['location']['country'])"
   ]
  },
  {
   "cell_type": "code",
   "execution_count": 8,
   "metadata": {},
   "outputs": [
    {
     "name": "stdout",
     "output_type": "stream",
     "text": [
      "{'location': {'name': 'Hong Kong', 'region': '', 'country': 'Hong Kong', 'lat': 22.28, 'lon': 114.15, 'tz_id': 'Asia/Hong_Kong', 'localtime_epoch': 1700000372, 'localtime': '2023-11-15 6:19'}, 'current': {'last_updated_epoch': 1700000100, 'last_updated': '2023-11-15 06:15', 'temp_c': 19.0, 'temp_f': 66.2, 'is_day': 0, 'condition': {'text': 'Partly cloudy', 'icon': '//cdn.weatherapi.com/weather/64x64/night/116.png', 'code': 1003}, 'wind_mph': 12.5, 'wind_kph': 20.2, 'wind_degree': 20, 'wind_dir': 'NNE', 'pressure_mb': 1022.0, 'pressure_in': 30.18, 'precip_mm': 0.0, 'precip_in': 0.0, 'humidity': 73, 'cloud': 25, 'feelslike_c': 19.0, 'feelslike_f': 66.2, 'vis_km': 10.0, 'vis_miles': 6.0, 'uv': 1.0, 'gust_mph': 14.2, 'gust_kph': 22.8}}\n"
     ]
    }
   ],
   "source": [
    "print(hk_data)"
   ]
  },
  {
   "cell_type": "code",
   "execution_count": 10,
   "metadata": {},
   "outputs": [
    {
     "name": "stdout",
     "output_type": "stream",
     "text": [
      "It's the same\n"
     ]
    }
   ],
   "source": [
    "current_temp = hk_data[\"current\"][\"temp_c\"]\n",
    "feel_temp = hk_data[\"current\"][\"feelslike_c\"]\n",
    "if current_temp == feel_temp:\n",
    "    print(f\"It's the same\")\n",
    "elif current_temp < feel_temp:\n",
    "    print(f\"It feels {feel_temp-current_temp}°C walmer\")\n",
    "else:\n",
    "    print(f\"It feels {current_temp - feel_temp}°C colder\")"
   ]
  },
  {
   "cell_type": "code",
   "execution_count": 11,
   "metadata": {},
   "outputs": [],
   "source": [
    "lhr_url = f\"http://api.weatherapi.com/v1/current.json?key={key}&q=LHR&aqi=no\"\n",
    "response = requests.get(lhr_url)\n",
    "lhr_data = response.json()"
   ]
  },
  {
   "cell_type": "code",
   "execution_count": 16,
   "metadata": {},
   "outputs": [
    {
     "name": "stdout",
     "output_type": "stream",
     "text": [
      "{'location': {'name': 'London Heathrow Airport', 'region': 'London', 'country': 'United Kingdom', 'lat': 51.47, 'lon': -0.46, 'tz_id': 'Europe/London', 'localtime_epoch': 1700000884, 'localtime': '2023-11-14 22:28'}, 'current': {'last_updated_epoch': 1700000100, 'last_updated': '2023-11-14 22:15', 'temp_c': 9.0, 'temp_f': 48.2, 'is_day': 0, 'condition': {'text': 'Clear', 'icon': '//cdn.weatherapi.com/weather/64x64/night/113.png', 'code': 1000}, 'wind_mph': 10.5, 'wind_kph': 16.9, 'wind_degree': 240, 'wind_dir': 'WSW', 'pressure_mb': 1010.0, 'pressure_in': 29.83, 'precip_mm': 0.0, 'precip_in': 0.0, 'humidity': 93, 'cloud': 0, 'feelslike_c': 6.5, 'feelslike_f': 43.7, 'vis_km': 10.0, 'vis_miles': 6.0, 'uv': 1.0, 'gust_mph': 15.9, 'gust_kph': 25.6}}\n"
     ]
    }
   ],
   "source": [
    "print(lhr_data)"
   ]
  },
  {
   "cell_type": "code",
   "execution_count": 12,
   "metadata": {},
   "outputs": [
    {
     "name": "stdout",
     "output_type": "stream",
     "text": [
      "The current temp at LHR is 9.0°C.\n"
     ]
    }
   ],
   "source": [
    "print(f\"The current temp at LHR is {lhr_data['current']['temp_c']}°C.\")"
   ]
  },
  {
   "cell_type": "markdown",
   "metadata": {},
   "source": [
    "LHR 3 Days Forecast:http://api.weatherapi.com/v1/forecast.json?key=63d09939bad6439fae9220534231411&q=LHR&days=3&aqi=no&alerts=no"
   ]
  },
  {
   "cell_type": "code",
   "execution_count": 18,
   "metadata": {},
   "outputs": [],
   "source": [
    "lhr_forecast_url = \"http://api.weatherapi.com/v1/forecast.json?key={key}&q=LHR&days=3&aqi=no&alerts=no\"\n",
    "response = requests.get(lhr_forecast_url)\n",
    "lhr_forecast = response.json()"
   ]
  },
  {
   "cell_type": "code",
   "execution_count": 23,
   "metadata": {},
   "outputs": [
    {
     "name": "stdout",
     "output_type": "stream",
     "text": [
      "2023-11-14\n",
      "2023-11-15\n",
      "2023-11-16\n"
     ]
    }
   ],
   "source": [
    "for forecast in lhr_forecast[\"forecast\"][\"forecastday\"]:\n",
    "    print(forecast[\"date\"])"
   ]
  },
  {
   "cell_type": "code",
   "execution_count": 26,
   "metadata": {},
   "outputs": [
    {
     "name": "stdout",
     "output_type": "stream",
     "text": [
      "11.7°C\n",
      "10.8°C\n",
      "11.4°C\n"
     ]
    }
   ],
   "source": [
    "for forecast in lhr_forecast[\"forecast\"][\"forecastday\"]:\n",
    "    max_temp_c = forecast[\"day\"][\"maxtemp_c\"]\n",
    "    print(f\"{max_temp_c}°C\")"
   ]
  },
  {
   "cell_type": "code",
   "execution_count": 29,
   "metadata": {},
   "outputs": [
    {
     "name": "stdout",
     "output_type": "stream",
     "text": [
      "11.7\n"
     ]
    }
   ],
   "source": [
    "max_max_temp = None\n",
    "for forecast in lhr_forecast[\"forecast\"][\"forecastday\"]:\n",
    "    max_temp_c = forecast[\"day\"][\"maxtemp_c\"]\n",
    "    if max_max_temp is None or max_temp_c > max_max_temp:\n",
    "        max_max_temp = max_temp_c\n",
    "print(max_max_temp)"
   ]
  }
 ],
 "metadata": {
  "kernelspec": {
   "display_name": "Python 3",
   "language": "python",
   "name": "python3"
  },
  "language_info": {
   "codemirror_mode": {
    "name": "ipython",
    "version": 3
   },
   "file_extension": ".py",
   "mimetype": "text/x-python",
   "name": "python",
   "nbconvert_exporter": "python",
   "pygments_lexer": "ipython3",
   "version": "3.11.6"
  }
 },
 "nbformat": 4,
 "nbformat_minor": 2
}
